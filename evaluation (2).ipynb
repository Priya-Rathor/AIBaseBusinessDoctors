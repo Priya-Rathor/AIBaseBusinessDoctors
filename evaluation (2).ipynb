{
 "cells": [
  {
   "cell_type": "code",
   "execution_count": 1,
   "metadata": {},
   "outputs": [
    {
     "ename": "ModuleNotFoundError",
     "evalue": "No module named 'langgraph'",
     "output_type": "error",
     "traceback": [
      "\u001b[1;31m---------------------------------------------------------------------------\u001b[0m",
      "\u001b[1;31mModuleNotFoundError\u001b[0m                       Traceback (most recent call last)",
      "Cell \u001b[1;32mIn[1], line 1\u001b[0m\n\u001b[1;32m----> 1\u001b[0m \u001b[38;5;28;01mfrom\u001b[39;00m \u001b[38;5;21;01mlanggraph\u001b[39;00m\u001b[38;5;21;01m.\u001b[39;00m\u001b[38;5;21;01mgraph\u001b[39;00m \u001b[38;5;28;01mimport\u001b[39;00m Graph\n\u001b[0;32m      2\u001b[0m \u001b[38;5;28;01mfrom\u001b[39;00m \u001b[38;5;21;01mpydantic\u001b[39;00m \u001b[38;5;28;01mimport\u001b[39;00m BaseModel\n\u001b[0;32m      3\u001b[0m \u001b[38;5;28;01mfrom\u001b[39;00m \u001b[38;5;21;01mlangchain_groq\u001b[39;00m \u001b[38;5;28;01mimport\u001b[39;00m ChatGroq\n",
      "\u001b[1;31mModuleNotFoundError\u001b[0m: No module named 'langgraph'"
     ]
    }
   ],
   "source": [
    "from langgraph.graph import Graph\n",
    "from pydantic import BaseModel\n",
    "from langchain_groq import ChatGroq\n",
    "import os\n",
    "from dotenv import load_dotenv\n",
    "from langchain_community.tools import TavilySearchResults\n",
    "from typing import Optional, TypedDict\n",
    "from langgraph.graph import END, START, StateGraph, MessagesState\n",
    "from langchain_community.tools import WikipediaQueryRun\n",
    "from langchain_community.utilities import WikipediaAPIWrapper\n",
    "from typing import Union\n",
    "\n",
    "\n",
    "from fastapi import FastAPI\n",
    "load_dotenv()\n",
    "\n",
    "os.environ[\"GROQ_API_KEY\"]=os.getenv(\"GROQ_API_KEY\")\n",
    "os.environ[\"TAVILY_API_KEY\"]=os.getenv(\"TAVILY_API_KEY\")\n",
    "llm=ChatGroq(model=\"llama3-groq-70b-8192-tool-use-preview\")\n"
   ]
  },
  {
   "cell_type": "code",
   "execution_count": 332,
   "metadata": {},
   "outputs": [],
   "source": [
    "class InputState(TypedDict):\n",
    "    user_question:str\n",
    "    user_answer:str\n",
    "    gen_context:str\n",
    "    question_type:str\n",
    "    subject: Optional[str]\n",
    "class OutputState(TypedDict):\n",
    "    feedback:str\n",
    "    Total_Score:int\n",
    "    Accuracy: int\n",
    "    Relevance_to_the_Question:int\n",
    "    percentage:float\n",
    "    Logical_Consistency: int\n",
    "    Scientific_Accuracy: int\n",
    "    Depth_and_Explanation: int\n",
    "    Factual_Correctness: int\n",
    "class OverallState(InputState,OutputState):\n",
    "    pass\n"
   ]
  },
  {
   "cell_type": "code",
   "execution_count": 333,
   "metadata": {},
   "outputs": [],
   "source": [
    "tool = TavilySearchResults(\n",
    "    max_results=5,\n",
    "    search_depth=\"advanced\",\n",
    "    include_answer=True,\n",
    "    include_raw_content=True,\n",
    "    include_images=True,\n",
    "    \n",
    ")\n",
    "wikipedia = WikipediaQueryRun(api_wrapper=WikipediaAPIWrapper())"
   ]
  },
  {
   "cell_type": "code",
   "execution_count": 334,
   "metadata": {},
   "outputs": [],
   "source": [
    "import datetime\n",
    "\n",
    "from langchain_core.prompts import ChatPromptTemplate\n",
    "from langchain_core.runnables import RunnableConfig, chain\n",
    "\n",
    "today = datetime.datetime.today().strftime(\"%D\")\n",
    "prompt = ChatPromptTemplate(\n",
    "    [\n",
    "        (\"system\", f\"You are a helpful assistant. The date today is {today}.\"),\n",
    "        (\"human\", \"{user_input}\"),\n",
    "        (\"placeholder\", \"{messages}\"),\n",
    "    ]\n",
    ")\n",
    "\n",
    "llm_with_tools = llm.bind_tools([tool,wikipedia])\n",
    "\n",
    "llm_chain = prompt | llm_with_tools\n",
    "\n",
    "\n",
    "@chain\n",
    "def tool_chain(state:InputState):\n",
    "    user_input=state[\"user_question\"]\n",
    "    input_ = {\"user_input\": user_input}\n",
    "    ai_msg = llm_chain.invoke(input_)\n",
    "    print(\"ai_msg\",ai_msg)\n",
    "    tool_msgs = tool.batch(ai_msg.tool_calls)\n",
    "    print(\"tool_msgs\",tool_msgs)\n",
    "    z=llm_chain.invoke({**input_, \"messages\": [ai_msg, *tool_msgs]})\n",
    "    print(\"toolchain\",z)\n",
    "    return {\"gen_context\":z}\n",
    "\n",
    "class subject(BaseModel):\n",
    "    subject:str\n",
    "class question_re(BaseModel):\n",
    "    reformatted_question:str\n",
    "    \n",
    "def question_reformat(state: InputState)->InputState:\n",
    "    prompt = f\"\"\"\n",
    "    You are an assistant that helps to reformat questions. Your task is to rephrase the given question in a clear, structured, and grammatically correct way.\n",
    "\n",
    "    ### Input:\n",
    "    - **Original Question**: \"{state['user_question']}\"\n",
    "\n",
    "    ### Task:\n",
    "    Please reformat the question to make it more clear, direct, and formal if necessary. Your output should be a reformatted version of the original question.\n",
    "\n",
    "    ### Output Format:\n",
    "    Provide the reformatted question in the following JSON format:\n",
    "    ```json\n",
    "    {{\n",
    "        \"reformatted_question\": \"<Rephrased version of the input question>\"\n",
    "    }}\n",
    "    ```\n",
    "\n",
    "    \"\"\"\n",
    "    # Invoke the LLM with the prompt\n",
    "    response_question = llm.invoke(prompt)\n",
    "    try:\n",
    "        parsed_response = question_re.parse_raw(response_question.content)  # Parse the JSON response\n",
    "        print(\"Parsed subject:\", parsed_response.reformatted_question)  # Print parsed subject\n",
    "        return {\"user_question\":parsed_response.reformatted_question}\n",
    "    except Exception as e:\n",
    "        print(f\"Error parsing response: {e}\")\n",
    "        return {\"user_question\":state[\"user_question\"]}\n",
    "\n",
    "\n",
    "def subject_checker(state: InputState)->InputState:\n",
    "    prompt = f\"\"\"\n",
    "You are an intelligent assistant trained to classify questions into specific subject categories. Your task is to analyze the given question and determine the most appropriate subject type based on its content.\n",
    "\n",
    "### Input:\n",
    "- **Question**: \"{state['user_question']}\"\n",
    "\n",
    "### Subject Categories:\n",
    "1. **Logical Reasoning**: Questions that involve patterns, puzzles, reasoning, or problem-solving.\n",
    "   - Examples: \"If all cats are animals, and some animals are wild, can all cats be wild?\" or \"What comes next in the sequence: 2, 4, 8, 16, ...?\"\n",
    "\n",
    "2. **Science**: Questions that relate to scientific concepts, theories, or facts from subjects like Physics, Biology, Chemistry, etc.\n",
    "   - Examples: \"Why does water boil at 100 degrees Celsius?\" or \"What is the role of mitochondria in a cell?\"\n",
    "\n",
    "3. **General Knowledge**: Questions that involve facts, history, geography, or any general topic outside of logic and science.\n",
    "   - Examples: \"Who is the President of the United States in 2024?\" or \"Where is the Eiffel Tower located?\"\n",
    "\n",
    "### Task:\n",
    "Analyze the question and classify it into one of the three categories: Logical Reasoning, Science, or General Knowledge.\n",
    "\n",
    "### Output Format:\n",
    "Provide your classification in the following JSON format:\n",
    "```json\n",
    "{{\n",
    "    \"subject\":\"Logical Reasoning / Science / General Knowledge\"\n",
    "}}\n",
    "\"\"\"\n",
    "    response_subject = llm.invoke(prompt)\n",
    "    try:\n",
    "        parsed_response = subject.parse_raw(response_subject.content)  # Parse the JSON response\n",
    "        print(\"Parsed subject:\", parsed_response.subject)  # Print parsed subject\n",
    "        return {\"subject\":parsed_response.subject}\n",
    "    except Exception as e:\n",
    "        print(f\"Error parsing response: {e}\")\n",
    "        state[\"subject\"] = \"Unknown\"\n",
    "\n",
    "\n"
   ]
  },
  {
   "cell_type": "code",
   "execution_count": 335,
   "metadata": {},
   "outputs": [],
   "source": [
    "\n",
    "\n",
    "# Base Evaluation Output\n",
    "class BaseEvaluationOutput(BaseModel):\n",
    "    Total_Score: int\n",
    "    feedback: str\n",
    "    percentage: float\n",
    "\n",
    "# Logical Evaluation Output\n",
    "class LogicalEvaluationOutput(BaseEvaluationOutput):\n",
    "    Logical_Consistency: int\n",
    "\n",
    "# Science Evaluation Output\n",
    "class ScienceEvaluationOutput(BaseEvaluationOutput):\n",
    "    Scientific_Accuracy: int\n",
    "    Depth_and_Explanation: int\n",
    "\n",
    "# General Knowledge Evaluation Output\n",
    "class GeneralKnowledgeEvaluationOutput(BaseEvaluationOutput):\n",
    "    Factual_Correctness: int\n",
    "    Relevance_to_the_Question: int\n"
   ]
  },
  {
   "cell_type": "code",
   "execution_count": 357,
   "metadata": {},
   "outputs": [],
   "source": [
    "def evaluate(state: InputState):\n",
    "    \"\"\"Evaluate the question and answer using the generated context with a focus on mathematical accuracy.\"\"\"\n",
    "\n",
    "    print(\"eval\",state[\"subject\"])\n",
    "    if state[\"subject\"]==\"Logical Reasoning\":\n",
    "        prompt = f\"\"\"\n",
    "You are an expert evaluator specializing in logical reasoning questions. Your task is to evaluate the user's answer based on the following input details:\n",
    "\n",
    "- **Question**: \"{state['user_question']}\"\n",
    "- **User's Answer**: \"{state['user_answer']}\"\n",
    "- **Reference Answer**: \"{state['gen_context']}\" (if available; otherwise, base your evaluation on logical principles)\n",
    "- **Question Type**: \"{state['question_type']}\"\n",
    "\n",
    "### Evaluation Criteria:\n",
    "1. **Logical Consistency (10 points)**: Is the user's reasoning consistent and free of logical fallacies?\n",
    "   - Assign full points if the reasoning is flawless.\n",
    "   - Deduct points for errors, omissions, or contradictions.\n",
    "2. check weather the user'answer is upto the point such that it cannot be solved completely. and also check if trying some shortcuts . if the answer doesn't match remove some marks\n",
    "\n",
    "\n",
    "### Scoring Instructions:\n",
    "- Provide a score for each criterion out of 10.\n",
    "- Calculate the total score out of 20 by summing the individual scores.\n",
    "- Calculate the percentage as `(Total Score / 20) * 100` and round it to two decimal places.\n",
    "\n",
    "### Feedback:\n",
    "Provide constructive feedback that highlights strengths and areas of improvement in the user's reasoning.\n",
    "\n",
    "### Output Format:\n",
    "Provide your evaluation strictly in the following JSON format:\n",
    "```json\n",
    "{{\n",
    "    \"Logical_Consistency\": (integer between 0-10),\n",
    "    \"Total_Score\": (integer between 0-20),\n",
    "    \"percentage\": (float rounded to two decimal places),\n",
    "    \"feedback\": \"Constructive feedback focusing on logical reasoning.\"\n",
    "}}\n",
    "\"\"\"\n",
    "        response_model = LogicalEvaluationOutput\n",
    "\n",
    "    elif state['subject'] in ['Science', 'Physics', 'Biology']:\n",
    "        prompt = f\"\"\"\n",
    "You are an expert evaluator specializing in scientific subjects. Your task is to evaluate the user's answer to a scientific question based on the following input details:\n",
    "\n",
    "- **Question**: \"{state['user_question']}\"\n",
    "- **User's Answer**: \"{state['user_answer']}\"\n",
    "- **Reference Answer**: \"{state['gen_context']}\" (if available; otherwise, use scientific principles to evaluate)\n",
    "- **Question Type**: \"{state['question_type']}\"\n",
    "\n",
    "### Evaluation Criteria:\n",
    "1. **Scientific Accuracy (10 points)**: Does the user's answer align with established scientific principles?\n",
    "   - Assign full points for scientifically accurate and well-explained answers.\n",
    "   - Deduct points for inaccuracies or omissions.\n",
    "2. **Depth and Explanation (10 points)**: Does the user's answer demonstrate a good understanding of the topic and provide sufficient detail?\n",
    "   - Assign full points for thorough and well-articulated answers.\n",
    "   - Deduct points for incomplete or poorly explained answers.\n",
    "3. check if the users answer is incomplete or not upto the final point where it has to be check the user is not trying anyshortcuts\n",
    "### Scoring Instructions:\n",
    "- Provide a score for each criterion out of 10.\n",
    "- Calculate the total score out of 20 by summing the individual scores.\n",
    "- Calculate the percentage as `(Total Score / 20) * 100` and round it to two decimal places.\n",
    "\n",
    "### Feedback:\n",
    "Provide constructive feedback that highlights strengths and areas of improvement, such as missing scientific details or logical inconsistencies.\n",
    "\n",
    "### Output Format:\n",
    "Provide your evaluation strictly in the following JSON format:\n",
    "```json\n",
    "{{\n",
    "    \"Scientific_Accuracy\": (integer between 0-10),\n",
    "    \"Depth_and_Explanation\": (integer between 0-10),\n",
    "    \"Total_Score\": (integer between 0-20),\n",
    "    \"percentage\": (float rounded to two decimal places),\n",
    "    \"feedback\": \"Constructive feedback focusing on scientific accuracy and depth.\"\n",
    "}}\n",
    "\"\"\"\n",
    "        response_model = ScienceEvaluationOutput\n",
    "\n",
    "    else:\n",
    "        print(state[\"subject\"])\n",
    "        prompt = f\"\"\"\n",
    "You are an expert evaluator specializing in general knowledge and miscellaneous subjects. Your task is to evaluate the user's answer based on the following input details:\n",
    "\n",
    "- **Question**: \"{state['user_question']}\"\n",
    "- **User's Answer**: \"{state['user_answer']}\"\n",
    "- **Reference Answer**: \"{state['gen_context']}\" (if available; otherwise, base your evaluation on standard knowledge)\n",
    "- **Question Type**: \"{state['question_type']}\"\n",
    "\n",
    "### Evaluation Criteria:\n",
    "1. **Factual Correctness (10 points)**: Is the user's answer factually accurate?\n",
    "   - Assign full points for correct and precise answers.\n",
    "   - Deduct points for inaccuracies or incorrect information.\n",
    "2. **Relevance to the Question (10 points)**: Does the user's answer address the question directly and concisely?\n",
    "   - Assign full points for relevant and well-focused answers.\n",
    "   - Deduct points for irrelevant or vague answers.\n",
    "3. check if the users answer is incomplete or not upto the final point where it has to be check the user is not trying anyshortcuts\n",
    "\n",
    "\n",
    "### Scoring Instructions:\n",
    "- Provide a score for each criterion out of 10.\n",
    "- Calculate the total score out of 20 by summing the individual scores.\n",
    "- Calculate the percentage as `(Total Score / 20) * 100` and round it to two decimal places.\n",
    "\n",
    "### Feedback:\n",
    "Provide constructive feedback that highlights areas of improvement, such as factual errors or lack of clarity.\n",
    "\n",
    "### Output Format:\n",
    "Provide your evaluation strictly in the following JSON format:\n",
    "```json\n",
    "{{\n",
    "    \"Factual_Correctness\": (integer between 0-10),\n",
    "    \"Relevance_to_the_Question\": (integer between 0-10),\n",
    "    \"Total_Score\": (integer between 0-20),\n",
    "    \"percentage\": (float rounded to two decimal places),\n",
    "    \"feedback\": \"Constructive feedback focusing on factual correctness and relevance.\"\n",
    "}}\n",
    "\"\"\"\n",
    "        response_model = GeneralKnowledgeEvaluationOutput\n",
    "\n",
    "    \n",
    "    response = llm.invoke(prompt)\n",
    "    try:\n",
    "        parsed_response = response_model.parse_raw(response.content)\n",
    "        return parsed_response.dict()\n",
    "    except Exception as e:\n",
    "        print(\"Error parsing response:\", e)\n",
    "        return {\n",
    "            \"marks\": 0,\n",
    "            \"feedback\": \"Unable to parse response. Please ensure the format is correct.\",\n",
    "        }\n"
   ]
  },
  {
   "cell_type": "code",
   "execution_count": 358,
   "metadata": {},
   "outputs": [],
   "source": [
    "builder=StateGraph(OverallState, input=InputState, output=OutputState)\n",
    "builder.add_node(\"tailvy_tool\",tool_chain)\n",
    "builder.add_node(\"evalulate\",evaluate)\n",
    "builder.add_node(\"question_reformat\",question_reformat)\n",
    "builder.add_node(\"subject_finder\",subject_checker)\n",
    "builder.add_edge(START,\"question_reformat\")\n",
    "builder.add_edge(\"question_reformat\",\"subject_finder\")\n",
    "builder.add_edge(\"subject_finder\",\"tailvy_tool\")\n",
    "builder.add_edge(\"tailvy_tool\",\"evalulate\")\n",
    "builder.add_edge(\"evalulate\",END)\n",
    "graph=builder.compile()\n"
   ]
  },
  {
   "cell_type": "code",
   "execution_count": 359,
   "metadata": {},
   "outputs": [
    {
     "data": {
      "image/jpeg": "[encoded data removed]",
      "text/plain": [
       "<IPython.core.display.Image object>"
      ]
     },
     "metadata": {},
     "output_type": "display_data"
    }
   ],
   "source": [
    "from IPython.display import Image, display\n",
    "\n",
    "try:\n",
    "    display(Image(graph.get_graph(xray=True).draw_mermaid_png()))\n",
    "except Exception:\n",
    "    # This requires some extra dependencies and is optional\n",
    "    pass"
   ]
  },
  {
   "cell_type": "code",
   "execution_count": 368,
   "metadata": {},
   "outputs": [
    {
     "name": "stdout",
     "output_type": "stream",
     "text": [
      "Parsed subject: What is the binary search algorithm and how does it work?\n",
      "Parsed subject: Logical Reasoning\n",
      "ai_msg content='The binary search algorithm is a simple and efficient algorithm for finding a specific element in a sorted list of elements. It works by repeatedly dividing the search interval in half. If the value of the search key is less than the item in the middle of the interval, narrow the interval to the lower half. Otherwise, narrow it to the upper half. Repeatedly check until the value is found or the interval is empty.' additional_kwargs={} response_metadata={'token_usage': {'completion_tokens': 85, 'prompt_tokens': 360, 'total_tokens': 445, 'completion_time': 0.269895979, 'prompt_time': 0.024985958, 'queue_time': 0.008335196, 'total_time': 0.294881937}, 'model_name': 'llama3-groq-70b-8192-tool-use-preview', 'system_fingerprint': 'fp_ee4b521143', 'finish_reason': 'stop', 'logprobs': None} id='run-0d6995ac-73ad-415d-b49e-5a368f60f2dd-0' usage_metadata={'input_tokens': 360, 'output_tokens': 85, 'total_tokens': 445}\n",
      "tool_msgs []\n",
      "toolchain content='' additional_kwargs={} response_metadata={'token_usage': {'completion_tokens': 1, 'prompt_tokens': 444, 'total_tokens': 445, 'completion_time': 0.0, 'prompt_time': 0.030257963, 'queue_time': -9223372036.885035, 'total_time': 0.030257963}, 'model_name': 'llama3-groq-70b-8192-tool-use-preview', 'system_fingerprint': 'fp_ee4b521143', 'finish_reason': 'stop', 'logprobs': None} id='run-bb987ead-65f2-45e3-ab67-98c2eb76b922-0' usage_metadata={'input_tokens': 444, 'output_tokens': 1, 'total_tokens': 445}\n",
      "eval Logical Reasoning\n"
     ]
    }
   ],
   "source": [
    "data=graph.invoke({\"user_question\":\"what is binary search?\",\"user_answer\":\"it is searching algorithm\",\"gen_context\":\"None\",\"question_type\":\"Short\",\"subject\":\"None\"})"
   ]
  },
  {
   "cell_type": "code",
   "execution_count": 369,
   "metadata": {},
   "outputs": [
    {
     "data": {
      "text/plain": [
       "{'feedback': \"The user's answer lacks detail and clarity. It does not fully address the question about the binary search algorithm and its working. The answer should provide more context and explain the steps involved in the binary search algorithm.\",\n",
       " 'Total_Score': 4,\n",
       " 'percentage': 20.0,\n",
       " 'Logical_Consistency': 2}"
      ]
     },
     "execution_count": 369,
     "metadata": {},
     "output_type": "execute_result"
    }
   ],
   "source": [
    "data\n"
   ]
  },
  {
   "cell_type": "code",
   "execution_count": 341,
   "metadata": {},
   "outputs": [],
   "source": [
    "import nest_asyncio\n",
    "import uvicorn\n",
    "import subprocess\n",
    "from fastapi.responses import JSONResponse\n",
    "from fastapi import FastAPI, HTTPException, status\n"
   ]
  },
  {
   "cell_type": "code",
   "execution_count": 342,
   "metadata": {},
   "outputs": [],
   "source": [
    "\n",
    "app = FastAPI()\n",
    "class Item(BaseModel):\n",
    "    user_question: str\n",
    "    user_answer: str\n",
    "    question_type: str =None\n",
    "\n",
    "@app.post(\"/evaluate\")\n",
    "def evaluate(item: Item):\n",
    "    data=graph.invoke({\"user_question\":item.user_question,\"user_answer\":item.user_answer,\"gen_context:str\":\"None\",\"question_type\":item.question_type})\n",
    "    # feedback=data[\"feedback\"]\n",
    "    # marks=data[\"marks\"]\n",
    "    # factual_accuracy=data[\"factual_accuracy\"]\n",
    "    # completeness=data[\"completeness\"]\n",
    "    # errors=data[\"errors\"]\n",
    "    # percentage=data[\"percentage\"]\n",
    "    return JSONResponse(\n",
    "        content={\"message\": \"Item created successfully\", \"data\": data},\n",
    "        status_code=status.HTTP_201_CREATED  # HTTP 201 Created\n",
    "    )"
   ]
  },
  {
   "cell_type": "code",
   "execution_count": 343,
   "metadata": {},
   "outputs": [],
   "source": [
    "\n",
    "\n",
    "class Item(BaseModel):\n",
    "    name: str\n",
    "    description: str\n",
    "    price: float\n",
    "    tax: float = None\n",
    "\n",
    "@app.post(\"/create_item\")\n",
    "def create_item(item: Item):\n",
    "    # Example of using the status code for 'Created' (201)\n",
    "    print(item.name)\n",
    "    return JSONResponse(\n",
    "        content={\"message\": \"Item created successfully\", \"item\": item.dict(),\"name\":item.name},\n",
    "        status_code=status.HTTP_201_CREATED  # HTTP 201 Created\n",
    "    )"
   ]
  },
  {
   "cell_type": "code",
   "execution_count": 344,
   "metadata": {},
   "outputs": [
    {
     "ename": "RuntimeError",
     "evalue": "asyncio.run() cannot be called from a running event loop",
     "output_type": "error",
     "traceback": [
      "\u001b[1;31m---------------------------------------------------------------------------\u001b[0m",
      "\u001b[1;31mRuntimeError\u001b[0m                              Traceback (most recent call last)",
      "Cell \u001b[1;32mIn[344], line 9\u001b[0m\n\u001b[0;32m      6\u001b[0m     server \u001b[38;5;241m=\u001b[39m uvicorn\u001b[38;5;241m.\u001b[39mServer(config)\n\u001b[0;32m      7\u001b[0m     \u001b[38;5;28;01mawait\u001b[39;00m server\u001b[38;5;241m.\u001b[39mserve()\n\u001b[1;32m----> 9\u001b[0m \u001b[43masyncio\u001b[49m\u001b[38;5;241;43m.\u001b[39;49m\u001b[43mrun\u001b[49m\u001b[43m(\u001b[49m\u001b[43mserve\u001b[49m\u001b[43m(\u001b[49m\u001b[43m)\u001b[49m\u001b[43m)\u001b[49m\n",
      "File \u001b[1;32mC:\\Program Files\\Python312\\Lib\\asyncio\\runners.py:190\u001b[0m, in \u001b[0;36mrun\u001b[1;34m(main, debug, loop_factory)\u001b[0m\n\u001b[0;32m    161\u001b[0m \u001b[38;5;250m\u001b[39m\u001b[38;5;124;03m\"\"\"Execute the coroutine and return the result.\u001b[39;00m\n\u001b[0;32m    162\u001b[0m \n\u001b[0;32m    163\u001b[0m \u001b[38;5;124;03mThis function runs the passed coroutine, taking care of\u001b[39;00m\n\u001b[1;32m   (...)\u001b[0m\n\u001b[0;32m    186\u001b[0m \u001b[38;5;124;03m    asyncio.run(main())\u001b[39;00m\n\u001b[0;32m    187\u001b[0m \u001b[38;5;124;03m\"\"\"\u001b[39;00m\n\u001b[0;32m    188\u001b[0m \u001b[38;5;28;01mif\u001b[39;00m events\u001b[38;5;241m.\u001b[39m_get_running_loop() \u001b[38;5;129;01mis\u001b[39;00m \u001b[38;5;129;01mnot\u001b[39;00m \u001b[38;5;28;01mNone\u001b[39;00m:\n\u001b[0;32m    189\u001b[0m     \u001b[38;5;66;03m# fail fast with short traceback\u001b[39;00m\n\u001b[1;32m--> 190\u001b[0m     \u001b[38;5;28;01mraise\u001b[39;00m \u001b[38;5;167;01mRuntimeError\u001b[39;00m(\n\u001b[0;32m    191\u001b[0m         \u001b[38;5;124m\"\u001b[39m\u001b[38;5;124masyncio.run() cannot be called from a running event loop\u001b[39m\u001b[38;5;124m\"\u001b[39m)\n\u001b[0;32m    193\u001b[0m \u001b[38;5;28;01mwith\u001b[39;00m Runner(debug\u001b[38;5;241m=\u001b[39mdebug, loop_factory\u001b[38;5;241m=\u001b[39mloop_factory) \u001b[38;5;28;01mas\u001b[39;00m runner:\n\u001b[0;32m    194\u001b[0m     \u001b[38;5;28;01mreturn\u001b[39;00m runner\u001b[38;5;241m.\u001b[39mrun(main)\n",
      "\u001b[1;31mRuntimeError\u001b[0m: asyncio.run() cannot be called from a running event loop"
     ]
    }
   ],
   "source": [
    "import asyncio\n",
    "import uvicorn\n",
    "\n",
    "async def serve():\n",
    "    config = uvicorn.Config(app, host=\"127.0.0.1\", port=8001)\n",
    "    server = uvicorn.Server(config)\n",
    "    await server.serve()\n",
    "\n",
    "asyncio.run(serve())"
   ]
  },
  {
   "cell_type": "code",
   "execution_count": 1,
   "metadata": {},
   "outputs": [
    {
     "name": "stdout",
     "output_type": "stream",
     "text": [
      "Collecting exa-py\n",
      "  Downloading exa_py-1.14.7-py3-none-any.whl.metadata (4.1 kB)\n",
      "Requirement already satisfied: httpx>=0.28.1 in c:\\users\\user\\appdata\\local\\programs\\python\\python310\\lib\\site-packages (from exa-py) (0.28.1)\n",
      "Requirement already satisfied: openai>=1.48 in c:\\users\\user\\appdata\\local\\programs\\python\\python310\\lib\\site-packages (from exa-py) (1.88.0)\n",
      "Requirement already satisfied: pydantic>=2.10.6 in c:\\users\\user\\appdata\\local\\programs\\python\\python310\\lib\\site-packages (from exa-py) (2.10.6)\n",
      "Requirement already satisfied: requests>=2.32.3 in c:\\users\\user\\appdata\\local\\programs\\python\\python310\\lib\\site-packages (from exa-py) (2.32.3)\n",
      "Requirement already satisfied: typing-extensions>=4.12.2 in c:\\users\\user\\appdata\\local\\programs\\python\\python310\\lib\\site-packages (from exa-py) (4.12.2)\n",
      "Requirement already satisfied: anyio in c:\\users\\user\\appdata\\local\\programs\\python\\python310\\lib\\site-packages (from httpx>=0.28.1->exa-py) (3.7.1)\n",
      "Requirement already satisfied: certifi in c:\\users\\user\\appdata\\local\\programs\\python\\python310\\lib\\site-packages (from httpx>=0.28.1->exa-py) (2024.8.30)\n",
      "Requirement already satisfied: httpcore==1.* in c:\\users\\user\\appdata\\local\\programs\\python\\python310\\lib\\site-packages (from httpx>=0.28.1->exa-py) (1.0.7)\n",
      "Requirement already satisfied: idna in c:\\users\\user\\appdata\\local\\programs\\python\\python310\\lib\\site-packages (from httpx>=0.28.1->exa-py) (3.10)\n",
      "Requirement already satisfied: h11<0.15,>=0.13 in c:\\users\\user\\appdata\\local\\programs\\python\\python310\\lib\\site-packages (from httpcore==1.*->httpx>=0.28.1->exa-py) (0.14.0)\n",
      "Requirement already satisfied: distro<2,>=1.7.0 in c:\\users\\user\\appdata\\local\\programs\\python\\python310\\lib\\site-packages (from openai>=1.48->exa-py) (1.9.0)\n",
      "Requirement already satisfied: jiter<1,>=0.4.0 in c:\\users\\user\\appdata\\local\\programs\\python\\python310\\lib\\site-packages (from openai>=1.48->exa-py) (0.8.0)\n",
      "Requirement already satisfied: sniffio in c:\\users\\user\\appdata\\local\\programs\\python\\python310\\lib\\site-packages (from openai>=1.48->exa-py) (1.3.1)\n",
      "Requirement already satisfied: tqdm>4 in c:\\users\\user\\appdata\\local\\programs\\python\\python310\\lib\\site-packages (from openai>=1.48->exa-py) (4.67.0)\n",
      "Requirement already satisfied: annotated-types>=0.6.0 in c:\\users\\user\\appdata\\local\\programs\\python\\python310\\lib\\site-packages (from pydantic>=2.10.6->exa-py) (0.7.0)\n",
      "Requirement already satisfied: pydantic-core==2.27.2 in c:\\users\\user\\appdata\\local\\programs\\python\\python310\\lib\\site-packages (from pydantic>=2.10.6->exa-py) (2.27.2)\n",
      "Requirement already satisfied: charset-normalizer<4,>=2 in c:\\users\\user\\appdata\\local\\programs\\python\\python310\\lib\\site-packages (from requests>=2.32.3->exa-py) (3.4.0)\n",
      "Requirement already satisfied: urllib3<3,>=1.21.1 in c:\\users\\user\\appdata\\local\\programs\\python\\python310\\lib\\site-packages (from requests>=2.32.3->exa-py) (2.3.0)\n",
      "Requirement already satisfied: exceptiongroup in c:\\users\\user\\appdata\\local\\programs\\python\\python310\\lib\\site-packages (from anyio->httpx>=0.28.1->exa-py) (1.2.2)\n",
      "Requirement already satisfied: colorama in c:\\users\\user\\appdata\\local\\programs\\python\\python310\\lib\\site-packages (from tqdm>4->openai>=1.48->exa-py) (0.4.6)\n",
      "Downloading exa_py-1.14.7-py3-none-any.whl (39 kB)\n",
      "Installing collected packages: exa-py\n",
      "Successfully installed exa-py-1.14.7\n"
     ]
    },
    {
     "name": "stderr",
     "output_type": "stream",
     "text": [
      "WARNING: Ignoring invalid distribution -umpy (c:\\users\\user\\appdata\\local\\programs\\python\\python310\\lib\\site-packages)\n",
      "WARNING: Ignoring invalid distribution -umpy (c:\\users\\user\\appdata\\local\\programs\\python\\python310\\lib\\site-packages)\n",
      "WARNING: Ignoring invalid distribution -umpy (c:\\users\\user\\appdata\\local\\programs\\python\\python310\\lib\\site-packages)\n",
      "\n",
      "[notice] A new release of pip is available: 25.0.1 -> 25.1.1\n",
      "[notice] To update, run: python.exe -m pip install --upgrade pip\n"
     ]
    }
   ],
   "source": [
    "!pip install exa-py\n"
   ]
  },
  {
   "cell_type": "code",
   "execution_count": 3,
   "metadata": {},
   "outputs": [],
   "source": [
    "from exa_py import Exa\n",
    "\n",
    "exa = Exa(api_key = \"88b90ee9-a9a5-4b34-9b3c-81236406f54b\")\n",
    "\n",
    "result = exa.search(\n",
    "  \"how is the winner of chess\"\n",
    ")"
   ]
  },
  {
   "cell_type": "code",
   "execution_count": 4,
   "metadata": {},
   "outputs": [
    {
     "data": {
      "text/plain": [
       "SearchResponse(results=[Result(url='https://en.wikipedia.org/wiki/Rules_of_chess', id='https://en.wikipedia.org/wiki/Rules_of_chess', title='Rules of chess - Wikipedia', score=None, published_date='2025-02-20T16:57:30.000Z', author='Contributors to Wikimedia projects', image='https://upload.wikimedia.org/wikipedia/commons/thumb/6/6f/ChessSet.jpg/640px-ChessSet.jpg', favicon='https://en.wikipedia.org/static/apple-touch/wikipedia.png', subpages=None, extras=None, text=None, highlights=None, highlight_scores=None, summary=None), Result(url='https://www.thechessdrum.net/chessacademy/CA_Winning.html', id='https://www.thechessdrum.net/chessacademy/CA_Winning.html', title='Win, Lose, or Draw! - The Chess Drum', score=None, published_date='2000-01-01T00:00:00.000Z', author='', image=None, favicon=None, subpages=None, extras=None, text=None, highlights=None, highlight_scores=None, summary=None), Result(url='https://www.chess.com/forum/view/general/how-someone-wins-a-match-without-checkmate', id='https://www.chess.com/forum/view/general/how-someone-wins-a-match-without-checkmate', title='How someone wins a match without checkmate? - Chess Forums', score=None, published_date='2013-12-09T00:00:00.000Z', author='', image='https://www.chess.com/bundles/web/images/social/share-forums.7fb85bef.png', favicon='https://www.chess.com/bundles/web/favicons/safari-pinned-tab.1bf62bbf.svg', subpages=None, extras=None, text=None, highlights=None, highlight_scores=None, summary=None), Result(url='https://www.chess.com/article/view/how-to-be-a-winner-in-chess', id='https://www.chess.com/article/view/how-to-be-a-winner-in-chess', title='How To Be A Winner In Chess', score=None, published_date='2024-06-05T00:00:00.000Z', author=None, image=None, favicon=None, subpages=None, extras=None, text=None, highlights=None, highlight_scores=None, summary=None), Result(url='https://www.reddit.com/r/chessbeginners/comments/1e28g1e/how_to_actually_win_in_chess/', id='https://www.reddit.com/r/chessbeginners/comments/1e28g1e/how_to_actually_win_in_chess/', title='How to actually win in chess? : r/chessbeginners - Reddit', score=None, published_date='2024-07-13T00:00:00.000Z', author=None, image=None, favicon=None, subpages=None, extras=None, text=None, highlights=None, highlight_scores=None, summary=None), Result(url='https://www.chess.com/forum/view/tournaments/winner-calculation', id='https://www.chess.com/forum/view/tournaments/winner-calculation', title='Winner calculation - Chess Forums', score=None, published_date='2008-09-27T00:00:00.000Z', author=None, image=None, favicon=None, subpages=None, extras=None, text=None, highlights=None, highlight_scores=None, summary=None), Result(url='https://www.quora.com/How-do-chess-tournaments-decide-who-wins-when-the-players-have-the-same-amount-of-wins-at-the-end-of-the-tournament', id='https://www.quora.com/How-do-chess-tournaments-decide-who-wins-when-the-players-have-the-same-amount-of-wins-at-the-end-of-the-tournament', title='How do chess tournaments decide who wins when the players have ...', score=None, published_date='2025-01-01T00:00:00.000Z', author='', image='https://qph.cf2.quoracdn.net/main-custom-t-1393784-600x315-uodyadnofqkhbjfqohqshngtbxjbxvoa.jpeg', favicon=None, subpages=None, extras=None, text=None, highlights=None, highlight_scores=None, summary=None), Result(url='https://en.wikipedia.org/wiki/World_Chess_Championship', id='https://en.wikipedia.org/wiki/World_Chess_Championship', title='World Chess Championship - Wikipedia', score=None, published_date='2025-05-05T22:43:19.000Z', author='Contributors to Wikimedia projects', image='https://upload.wikimedia.org/wikipedia/commons/thumb/f/f2/Gukesh_in_2024_%28cropped%29.jpg/960px-Gukesh_in_2024_%28cropped%29.jpg', favicon='https://en.wikipedia.org/static/apple-touch/wikipedia.png', subpages=None, extras=None, text=None, highlights=None, highlight_scores=None, summary=None), Result(url='https://www.youtube.com/watch?v=346S2bg8Gjw&pp=0gcJCdgAo7VqN5tD', id='https://www.youtube.com/watch?v=346S2bg8Gjw', title='Learn to Play Chess Openings: The Ultimate Beginner’s Guide', score=0.3951079249382019, published_date='2023-07-17T00:00:00.000Z', author='Remote Chess Academy', image=None, favicon='https://www.youtube.com/s/desktop/fed3a7a0/img/logos/favicon_32x32.png', subpages=None, extras=None, text=None, highlights=None, highlight_scores=None, summary=None), Result(url='https://www.youtube.com/watch?v=DURiOdEHaRo', id='https://www.youtube.com/watch?v=DURiOdEHaRo', title='Bobby Fischer vs Anatoly Karpov • World Championship - Match Zagreb, 1975 Round 1', score=0.39097583293914795, published_date='2024-08-26T00:00:00.000Z', author='Chess Play 64', image=None, favicon='https://www.youtube.com/s/desktop/428d9196/img/logos/favicon_32x32.png', subpages=None, extras=None, text=None, highlights=None, highlight_scores=None, summary=None)], autoprompt_string='how is the winner of chess', resolved_search_type='neural', auto_date=None, context=None, statuses=None, cost_dollars=CostDollars(total=0.005, search={'neural': 0.005}, contents=None))"
      ]
     },
     "execution_count": 4,
     "metadata": {},
     "output_type": "execute_result"
    }
   ],
   "source": [
    "result"
   ]
  },
  {
   "cell_type": "code",
   "execution_count": null,
   "metadata": {},
   "outputs": [],
   "source": []
  }
 ],
 "metadata": {
  "kernelspec": {
   "display_name": "Python 3",
   "language": "python",
   "name": "python3"
  },
  "language_info": {
   "codemirror_mode": {
    "name": "ipython",
    "version": 3
   },
   "file_extension": ".py",
   "mimetype": "text/x-python",
   "name": "python",
   "nbconvert_exporter": "python",
   "pygments_lexer": "ipython3",
   "version": "3.10.3"
  }
 },
 "nbformat": 4,
 "nbformat_minor": 2
}

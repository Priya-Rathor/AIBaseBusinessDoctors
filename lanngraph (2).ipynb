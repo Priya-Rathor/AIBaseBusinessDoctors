{
 "cells": [
  {
   "cell_type": "code",
   "execution_count": 1,
   "metadata": {},
   "outputs": [],
   "source": [
    "from langgraph.graph import Graph\n",
    "from pydantic import BaseModel\n",
    "from langchain_core.tools import tool\n",
    "from langchain_core.runnables import RunnableConfig\n",
    "from langchain_groq import ChatGroq\n",
    "import os\n",
    "from dotenv import load_dotenv\n",
    "from langchain_community.tools import WikipediaQueryRun\n",
    "from langchain_community.utilities import WikipediaAPIWrapper\n",
    "load_dotenv()\n",
    "os.environ[\"GROQ_API_KEY\"]=os.getenv(\"GROQ_API_KEY\")\n",
    "llm=ChatGroq(model=\"llama3-groq-70b-8192-tool-use-preview\")"
   ]
  },
  {
   "cell_type": "code",
   "execution_count": 2,
   "metadata": {},
   "outputs": [],
   "source": [
    "@tool\n",
    "def add_tools(a:int,b:int):\n",
    "    '''add a and b'''\n",
    "    return a+b"
   ]
  },
  {
   "cell_type": "code",
   "execution_count": 3,
   "metadata": {},
   "outputs": [],
   "source": [
    "@tool\n",
    "def subtract(c:int,b:int):\n",
    "    '''subtract c and d'''\n",
    "    return c-b"
   ]
  },
  {
   "cell_type": "code",
   "execution_count": 4,
   "metadata": {},
   "outputs": [],
   "source": [
    "@tool\n",
    "def multiple(d:int,e:int):\n",
    "    '''multiple d and e'''\n",
    "    return d * e"
   ]
  },
  {
   "cell_type": "code",
   "execution_count": 5,
   "metadata": {},
   "outputs": [
    {
     "name": "stdout",
     "output_type": "stream",
     "text": [
      "bound=ChatGroq(client=<groq.resources.chat.completions.Completions object at 0x0000023DCBF8CD10>, async_client=<groq.resources.chat.completions.AsyncCompletions object at 0x0000023DCBF8D880>, model_name='llama3-groq-70b-8192-tool-use-preview', model_kwargs={}, groq_api_key=SecretStr('**********')) kwargs={'tools': [{'type': 'function', 'function': {'name': 'add_tools', 'description': 'add a and b', 'parameters': {'properties': {'a': {'type': 'integer'}, 'b': {'type': 'integer'}}, 'required': ['a', 'b'], 'type': 'object'}}}, {'type': 'function', 'function': {'name': 'subtract', 'description': 'subtract c and d', 'parameters': {'properties': {'c': {'type': 'integer'}, 'b': {'type': 'integer'}}, 'required': ['c', 'b'], 'type': 'object'}}}]} config={} config_factories=[]\n"
     ]
    }
   ],
   "source": [
    "tools=[add_tools,subtract]\n",
    "llmwithtools=llm.bind_tools(tools)\n",
    "print(llmwithtools)\n",
    "messages=[\"hii i want to add 5 and 7\"]"
   ]
  },
  {
   "cell_type": "code",
   "execution_count": 6,
   "metadata": {},
   "outputs": [],
   "source": [
    "aimessage=llmwithtools.invoke(messages)"
   ]
  },
  {
   "cell_type": "code",
   "execution_count": 11,
   "metadata": {},
   "outputs": [
    {
     "name": "stdout",
     "output_type": "stream",
     "text": [
      "content='' additional_kwargs={'tool_calls': [{'id': 'call_fwv3', 'function': {'arguments': '{\"a\": 5, \"b\": 7}', 'name': 'add_tools'}, 'type': 'function'}, {'id': 'call_7kr0', 'function': {'arguments': '{\"a\": 10, \"b\": 15}', 'name': 'add_tools'}, 'type': 'function'}]} response_metadata={'token_usage': {'completion_tokens': 64, 'prompt_tokens': 291, 'total_tokens': 355, 'completion_time': 0.201384093, 'prompt_time': 0.020482976, 'queue_time': 0.012829122999999998, 'total_time': 0.221867069}, 'model_name': 'llama3-groq-70b-8192-tool-use-preview', 'system_fingerprint': 'fp_ee4b521143', 'finish_reason': 'tool_calls', 'logprobs': None} id='run-e704c774-1fe8-46dc-94c7-1e24f30cd195-0' tool_calls=[{'name': 'add_tools', 'args': {'a': 5, 'b': 7}, 'id': 'call_fwv3', 'type': 'tool_call'}, {'name': 'add_tools', 'args': {'a': 10, 'b': 15}, 'id': 'call_7kr0', 'type': 'tool_call'}] usage_metadata={'input_tokens': 291, 'output_tokens': 64, 'total_tokens': 355}\n"
     ]
    }
   ],
   "source": [
    "print(aimessage)"
   ]
  },
  {
   "cell_type": "code",
   "execution_count": 12,
   "metadata": {},
   "outputs": [
    {
     "name": "stdout",
     "output_type": "stream",
     "text": [
      "add_tools\n",
      "name='add_tools' description='add a and b' args_schema=<class 'langchain_core.utils.pydantic.add_tools'> func=<function add_tools at 0x0000023DCBF87A60>\n",
      "content='12' name='add_tools' tool_call_id='call_fwv3'\n",
      "add_tools\n",
      "name='add_tools' description='add a and b' args_schema=<class 'langchain_core.utils.pydantic.add_tools'> func=<function add_tools at 0x0000023DCBF87A60>\n",
      "content='25' name='add_tools' tool_call_id='call_7kr0'\n",
      "['hii i want to add 5 and 7', ToolMessage(content='12', name='add_tools', tool_call_id='call_fwv3'), ToolMessage(content='25', name='add_tools', tool_call_id='call_7kr0')]\n"
     ]
    }
   ],
   "source": [
    "for tool_call in aimessage.tool_calls:\n",
    "    print(tool_call[\"name\"].lower())\n",
    "    selectedtool={\"add_tools\":add_tools,\"subtract\":subtract}[tool_call[\"name\"].lower()]\n",
    "    print(selectedtool)\n",
    "    toolmessage=selectedtool.invoke(tool_call)\n",
    "    print(toolmessage)\n",
    "    messages.append(toolmessage)\n",
    "print(messages)"
   ]
  },
  {
   "cell_type": "code",
   "execution_count": 31,
   "metadata": {},
   "outputs": [],
   "source": [
    "response=llmwithtools.invoke(messages)"
   ]
  },
  {
   "cell_type": "code",
   "execution_count": 32,
   "metadata": {},
   "outputs": [
    {
     "data": {
      "text/plain": [
       "'The sum of 5 and 7 is 12. Do you need help with anything else?'"
      ]
     },
     "execution_count": 32,
     "metadata": {},
     "output_type": "execute_result"
    }
   ],
   "source": [
    "response.content"
   ]
  },
  {
   "cell_type": "code",
   "execution_count": null,
   "metadata": {},
   "outputs": [],
   "source": [
    "class input(BaseModel):\n",
    "    answer:int\n",
    "    question:str\n",
    "    "
   ]
  },
  {
   "cell_type": "code",
   "execution_count": 35,
   "metadata": {},
   "outputs": [],
   "source": [
    "@tool\n",
    "def multiply3(a:int,b:int,c:int):\n",
    "    '''multiply a,b and c'''\n",
    "    return a*b*c"
   ]
  },
  {
   "cell_type": "code",
   "execution_count": null,
   "metadata": {},
   "outputs": [],
   "source": [
    "from langchain_core.prompts import ChatPromptTemplate\n",
    "Assistant_prompt=ChatPromptTemplate.from_messages(\n",
    "    [\n",
    "        (\n",
    "            \"system\",\n",
    "            \"you are a mathematics expert\"\n",
    "            \"use the provided tools to perform multiply add and subtract operations\"\n",
    "\n",
    "        ),\n",
    "        (\"placeholder\",\"{question}\"),\n",
    "    ]\n",
    ")\n",
    "safe_tools"
   ]
  }
 ],
 "metadata": {
  "kernelspec": {
   "display_name": "venv",
   "language": "python",
   "name": "python3"
  },
  "language_info": {
   "codemirror_mode": {
    "name": "ipython",
    "version": 3
   },
   "file_extension": ".py",
   "mimetype": "text/x-python",
   "name": "python",
   "nbconvert_exporter": "python",
   "pygments_lexer": "ipython3",
   "version": "3.12.3"
  }
 },
 "nbformat": 4,
 "nbformat_minor": 2
}
